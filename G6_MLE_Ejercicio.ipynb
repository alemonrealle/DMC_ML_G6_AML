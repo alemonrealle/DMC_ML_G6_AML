{
 "cells": [
  {
   "cell_type": "code",
   "execution_count": null,
   "id": "d3466b18",
   "metadata": {},
   "outputs": [],
   "source": [
    "#Pycaret:\n",
    "#from pycaret.regression import *\n",
    "\n",
    "#Pipeline de pycaret:\n",
    "\n",
    "#1. Setup() : Definir el dataset y parametros\n",
    "    #exp = setup(data=df, target='precio', session_id=12,normalize=True)\n",
    "#2. Compare_models(): Compara multiples modelos y los rankea\n",
    "    #mejor_modelo = compare_models()\n",
    "\n",
    "#3. Create model() : Crea un modelo especifico\n",
    "    #lr = create_model('lr') \n",
    "\n",
    "#4. Tune_model() :Ajuste automatico de hiperparametros\n",
    "    #tuned_lr = tune_model(lr)\n",
    "\n",
    "#5. plot_model(): visualiza (graficamente) el desempeño del modelo\n",
    "    #plot_model(tuned_lr,plot='residuals')\n",
    "    #plot_model(tuned_lr,plot='feature')\n",
    "\n",
    "#6. evaluate_model(): UI de evaluación del modelo\n",
    "    #evaluate_model(tuned_lr)\n",
    "\n",
    "#7. predict_model(): Predicciones sobre nuevos datos en el DF\n",
    "    #predicciones = predict_model(tuned_lr,data=nuevo_df)\n",
    "\n",
    "#8. save_model()/load_model(): Guardar y cargar modelo.\n",
    "    #save_model(tunel_lr,'modelo_final')\n"
   ]
  },
  {
   "cell_type": "code",
   "execution_count": 1,
   "id": "5d63eb52",
   "metadata": {},
   "outputs": [],
   "source": [
    "import pandas as pd\n",
    "from pycaret.regression import *"
   ]
  },
  {
   "cell_type": "code",
   "execution_count": 3,
   "id": "bf631afc",
   "metadata": {},
   "outputs": [],
   "source": [
    "#1. Cargamos la data:\n",
    "df = pd.read_csv('precio_departamentos.csv')"
   ]
  }
 ],
 "metadata": {
  "kernelspec": {
   "display_name": "Python 3",
   "language": "python",
   "name": "python3"
  },
  "language_info": {
   "codemirror_mode": {
    "name": "ipython",
    "version": 3
   },
   "file_extension": ".py",
   "mimetype": "text/x-python",
   "name": "python",
   "nbconvert_exporter": "python",
   "pygments_lexer": "ipython3",
   "version": "3.11.9"
  }
 },
 "nbformat": 4,
 "nbformat_minor": 5
}
